{
 "cells": [
  {
   "cell_type": "markdown",
   "metadata": {},
   "source": [
    "# Mock project\n",
    "\n",
    "## Imports"
   ]
  },
  {
   "cell_type": "code",
   "execution_count": null,
   "metadata": {},
   "outputs": [],
   "source": [
    "# Imports\n",
    "from music21 import note, stream, midi, meter, tempo, pitch, instrument\n",
    "\n",
    "from typing import Union, List\n",
    "\n",
    "import pandas as pd\n",
    "import numpy as np\n",
    "\n",
    "import mchmm    # Markov models\n",
    "import copy\n",
    "from iteration_utilities import deepflatten\n",
    "from fractions import Fraction\n",
    "\n",
    "import math\n",
    "import random\n",
    "\n",
    "import scipy.io.wavfile as wave\n",
    "from IPython.display import Audio"
   ]
  },
  {
   "cell_type": "markdown",
   "metadata": {},
   "source": [
    "## Helper functions"
   ]
  },
  {
   "cell_type": "code",
   "execution_count": null,
   "metadata": {},
   "outputs": [],
   "source": [
    "def play(score: stream.Stream) -> None:\n",
    "    \"\"\"Shortcut to play a score\n",
    "\n",
    "    Args:\n",
    "        score (stream.Stream): The score to play\n",
    "    \"\"\"    \n",
    "    midi.realtime.StreamPlayer(score).play()"
   ]
  },
  {
   "cell_type": "markdown",
   "metadata": {},
   "source": [
    "## Base rhythms"
   ]
  },
  {
   "cell_type": "code",
   "execution_count": null,
   "metadata": {},
   "outputs": [],
   "source": [
    "UNIT = 4\n",
    "\n",
    "def elem_to_note(elem: Union[float, str]) -> Union[note.Note, note.Rest]:\n",
    "    \"\"\"Creates a note or rest from a number or textual representation  \n",
    "\n",
    "    Args:\n",
    "        elem (Union[float, str]): The element to convert \n",
    "            (float for note and str for rest)\n",
    "\n",
    "    Returns:\n",
    "        Union[note.Note, note.Rest]: The note or rest generated\n",
    "    \"\"\"    \n",
    "    if isinstance(elem, str):\n",
    "        return note.Rest(quarterLength = UNIT * Fraction(elem))\n",
    "    else:\n",
    "        return note.Note('C', quarterLength = UNIT * elem)"
   ]
  },
  {
   "cell_type": "code",
   "execution_count": null,
   "metadata": {},
   "outputs": [],
   "source": [
    "sequences = [\n",
    "    [1/4, 1/4, 1/4, 1/4],\n",
    "    [1/4, 1/4, 1/2],\n",
    "    [3/16, 1/16, 1/8, 1/8, 1/4, 1/4],\n",
    "    [1/4, 1/4, 1/2]\n",
    "]\n",
    "\n",
    "rhythms = []\n",
    "for seq in sequences:\n",
    "    notes_seq = list(map(elem_to_note, seq))\n",
    "    rhythms.append(notes_seq)"
   ]
  },
  {
   "cell_type": "markdown",
   "metadata": {},
   "source": [
    "## Markov chain"
   ]
  },
  {
   "cell_type": "code",
   "execution_count": null,
   "metadata": {},
   "outputs": [],
   "source": [
    "_, goat_wav = wave.read('goat.wav')\n",
    "goat_list = [abs(sum(c)) % len(rhythms) for c in goat_wav if abs(sum(c))<=len(rhythms)*random.randint(0,len(rhythms))]\n",
    "\n",
    "markov = mchmm.MarkovChain().from_data(goat_list)\n",
    "\n",
    "# visualization\n",
    "table = pd.DataFrame(markov.observed_matrix, index = markov.states, columns = markov.states, dtype = int)\n",
    "table.div(table.sum(axis=1), axis=0)"
   ]
  },
  {
   "cell_type": "markdown",
   "metadata": {},
   "source": [
    "## Melody"
   ]
  },
  {
   "cell_type": "code",
   "execution_count": null,
   "metadata": {},
   "outputs": [],
   "source": [
    "# SCORE SETUP\n",
    "def setup(stream: stream.Stream) -> None:\n",
    "    \"\"\"Does a stream setup (i.e. put the time signature and the tempo)\n",
    "\n",
    "    Args:\n",
    "        stream (stream.Stream): The stream to set up\n",
    "    \"\"\"    \n",
    "    stream.insert(0, meter.TimeSignature('4/4'))\n",
    "    stream.insert(0, tempo.MetronomeMark('allegretto'))"
   ]
  },
  {
   "cell_type": "code",
   "execution_count": null,
   "metadata": {},
   "outputs": [],
   "source": [
    "# GENERATE THE MELODIES\n",
    "def gen_melody(markov: mchmm.MarkovChain, rhythms: List[List[Union[note.Note, note.Rest]]],\n",
    "               length:int = None, start:int = None,\n",
    "               prev_melody=None, prev_states=None, ratio=1/2):\n",
    "    #TODO finish doc\n",
    "    \n",
    "    melody = stream.Part()\n",
    "    cont_melody = prev_melody is not None and prev_states is not None\n",
    "\n",
    "    # adjust parameters if it is a continuing melody\n",
    "    if cont_melody:\n",
    "        length = math.floor(len(prev_states) / ratio) - len(prev_states)\n",
    "\n",
    "        # find the start by generating it from the last state\n",
    "        # (need item() to convert to python integer)\n",
    "        start = markov.simulate(2, ret='states', start=prev_states[-1].item())[1].item()\n",
    "\n",
    "        # put the previous melody's notes\n",
    "        for n in prev_melody.notesAndRests:\n",
    "            melody.append(copy.deepcopy(n))\n",
    "\n",
    "\n",
    "    states = markov.simulate(length, ret='states', start=start)\n",
    "\n",
    "    # put the generated notes in the melody\n",
    "    notes_list = [copy.deepcopy(rhythms[i.item()]) for i in states]\n",
    "\n",
    "    for notes in notes_list:\n",
    "        for note in notes:\n",
    "            melody.append(note)\n",
    "\n",
    "    setup(melody)\n",
    "\n",
    "    # change speed if the melody is a continuing melody\n",
    "    if cont_melody:\n",
    "        melody = melody.augmentOrDiminish(ratio, inPlace=False)\n",
    "\n",
    "    return melody, states\n"
   ]
  },
  {
   "cell_type": "markdown",
   "metadata": {},
   "source": [
    "## Pitches"
   ]
  },
  {
   "cell_type": "code",
   "execution_count": null,
   "metadata": {},
   "outputs": [],
   "source": [
    "# PITCHES\n",
    "nice_scale = [pitch.Pitch(p) for p in ('Db', 'F#', 'G#', 'B')]"
   ]
  },
  {
   "cell_type": "code",
   "execution_count": null,
   "metadata": {},
   "outputs": [],
   "source": [
    "def put_pitches(part: stream.Stream, pitches_list: List[pitch.Pitch]) -> None:\n",
    "    \"\"\"Puts pitches in a stream\n",
    "\n",
    "    Args:\n",
    "        part (stream.Stream): The stream\n",
    "        pitches_list (List[pitch.Pitch]): The pitches\n",
    "    \"\"\"    \n",
    "    for n in part.notes:\n",
    "        n.pitch = random.choice(pitches_list)"
   ]
  },
  {
   "cell_type": "markdown",
   "metadata": {},
   "source": [
    "## Timbres"
   ]
  },
  {
   "cell_type": "code",
   "execution_count": null,
   "metadata": {},
   "outputs": [],
   "source": [
    "# TIMBRES\n",
    "instruments = [instrument.Accordion(), instrument.Violin(), instrument.Clarinet(), instrument.Woodblock()]"
   ]
  },
  {
   "cell_type": "markdown",
   "metadata": {},
   "source": [
    "## Create melodies"
   ]
  },
  {
   "cell_type": "code",
   "execution_count": null,
   "metadata": {},
   "outputs": [],
   "source": [
    "# TRANSFORM STREAMS\n",
    "def repeat_until(part: stream.Stream, bars: int) -> None:\n",
    "    \"\"\"Repeats the notes in a part until there are a certain number of bars.\\n\n",
    "    The stream should contain a MetronomeMark and a TimeSignature\n",
    "\n",
    "    Args:\n",
    "        part (stream.Stream): The stream\n",
    "        bars (int): The number of bars\n",
    "    \"\"\"\n",
    "    bpm = part.getElementsByClass('MetronomeMark')[0].number\n",
    "    quarters = part.getElementsByClass('TimeSignature')[0].barDuration.quarterLength\n",
    "\n",
    "    seconds_per_bar = quarters / bpm * 60\n",
    "\n",
    "    cur_bars = part.seconds / seconds_per_bar\n",
    "    notes = list(part.notesAndRests)\n",
    "\n",
    "    total_notes = bars / cur_bars * len(notes)\n",
    "    \n",
    "    for i in range(math.floor(total_notes) - len(notes)):\n",
    "        i = i % len(notes)\n",
    "        part.append(copy.deepcopy(notes[i]))\n",
    "\n",
    "\n",
    "def shift(part: stream.Stream, bars: int) -> None:\n",
    "    \"\"\"Shift a stream by a certain number of bars\n",
    "\n",
    "    Args:\n",
    "        part (stream.Stream): The stream to shift\n",
    "        bars (int): The number of bars we need to shift\n",
    "    \"\"\"    \n",
    "    notes = copy.deepcopy(part.notesAndRests)\n",
    "    for n in part.notesAndRests:\n",
    "        part.remove(n)\n",
    "\n",
    "    q_per_bar = part.getElementsByClass('TimeSignature')[0].barDuration.quarterLength\n",
    "    part.append(note.Rest(quarterLength = q_per_bar * bars))\n",
    "\n",
    "    for n in notes:\n",
    "        part.append(n)\n",
    "\n",
    "\n",
    "def replace_with_rests(part: stream.Stream, nbr_rests: int) -> None:\n",
    "    \"\"\"Replaces randomly some notes in a stream with rests\n",
    "\n",
    "    Args:\n",
    "        part (stream.Stream): The stream\n",
    "        nbr_rests (int): The number of rests to add\n",
    "    \"\"\"    \n",
    "    notes = part.notes\n",
    "    if len(notes) < nbr_rests:\n",
    "        nbr_rests = len(notes)\n",
    "\n",
    "    to_replace = random.choices(notes, k=nbr_rests)\n",
    "    for n in to_replace:\n",
    "        part.replace(n, note.Rest(quarterLength=n.quarterLength))\n",
    "\n",
    "    "
   ]
  },
  {
   "cell_type": "code",
   "execution_count": null,
   "metadata": {},
   "outputs": [],
   "source": [
    "# Create melodies\n",
    "melody0, states0 = gen_melody(markov, rhythms, length=4)\n",
    "melody1, states1 = gen_melody(markov, rhythms, prev_melody=melody0, prev_states=states0)\n",
    "melody2, states2 = gen_melody(markov, rhythms, prev_melody=melody1, prev_states=states1)\n",
    "\n",
    "base_melodies = [melody0, melody1, melody2]\n",
    "part_melodies = copy.deepcopy(base_melodies)\n",
    "\n",
    "# Setup base\n",
    "repeat_until(melody0, 8)\n",
    "\n",
    "repeat_until(melody1, 6)\n",
    "shift(melody1, 2)\n",
    "\n",
    "shift(melody2, 4)\n",
    "\n",
    "# Extend part melodies\n",
    "for m in part_melodies:\n",
    "    repeat_until(m, 8)\n",
    "\n",
    "# Generate all parts\n",
    "PARTS = 3\n",
    "all_parts = [base_melodies]\n",
    "\n",
    "for i in range(PARTS - 1):\n",
    "    all_parts.append(copy.deepcopy(part_melodies))\n",
    "\n",
    "# put all pitches\n",
    "#FIXME transpose doesn't work\n",
    "half_steps = 0\n",
    "rests = 5\n",
    "\n",
    "for part in all_parts:\n",
    "    for melody in part:\n",
    "        put_pitches(melody, nice_scale)\n",
    "        replace_with_rests(melody, rests)\n",
    "        #melody.transpose(interval.Interval(half_steps), inPlace=True, recurse=True)\n",
    "\n",
    "    half_steps += 4\n",
    "    rests = rests**2\n",
    "\n",
    "\n",
    "# Flatten to streams\n",
    "nbr_parts = len(all_parts)\n",
    "nbr_streams = len(all_parts[0])\n",
    "\n",
    "streams = []\n",
    "\n",
    "for i in range(nbr_streams):\n",
    "    mel = stream.Part()\n",
    "\n",
    "    for j in range(nbr_parts):\n",
    "        for n in all_parts[j][i].notesAndRests:\n",
    "            mel.append(n)\n",
    "\n",
    "    streams.append(mel)\n",
    "\n",
    "# add instruments\n",
    "for s in streams[:-1]:\n",
    "    s.insert(0, instruments[i % (len(streams) - 1)])\n",
    "\n",
    "streams[-1].insert(0, instruments[3])"
   ]
  },
  {
   "cell_type": "code",
   "execution_count": null,
   "metadata": {},
   "outputs": [],
   "source": [
    "score = stream.Score()\n",
    "\n",
    "for s in streams[:-1]:\n",
    "    score.insert(0, s)\n",
    "\n",
    "score.insert(0, streams[-1])\n",
    "\n",
    "setup(score)\n",
    "\n",
    "print(score.seconds / 60, \"minutes\")\n",
    "score.show('lily.pdf')"
   ]
  },
  {
   "cell_type": "code",
   "execution_count": null,
   "metadata": {},
   "outputs": [],
   "source": [
    "score.write('lily.pdf', fp='score')\n",
    "score.write('midi', fp='score.mid')"
   ]
  },
  {
   "cell_type": "code",
   "execution_count": null,
   "metadata": {},
   "outputs": [],
   "source": [
    "play(score)"
   ]
  }
 ],
 "metadata": {
  "kernelspec": {
   "display_name": "Python 3.8.5 64-bit ('algo': conda)",
   "name": "python385jvsc74a57bd0905c60f8c9a4410bd618fd74162fd6717021febd45cddae1997d312c11f4b783"
  },
  "language_info": {
   "codemirror_mode": {
    "name": "ipython",
    "version": 3
   },
   "file_extension": ".py",
   "mimetype": "text/x-python",
   "name": "python",
   "nbconvert_exporter": "python",
   "pygments_lexer": "ipython3",
   "version": "3.8.5"
  },
  "orig_nbformat": 2
 },
 "nbformat": 4,
 "nbformat_minor": 2
}