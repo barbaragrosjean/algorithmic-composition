{
 "cells": [
  {
   "cell_type": "markdown",
   "id": "political-partner",
   "metadata": {},
   "source": [
    "## GENERATION OF MARKOV MODEL"
   ]
  },
  {
   "cell_type": "markdown",
   "id": "noticed-motivation",
   "metadata": {},
   "source": [
    "**I use the decimal digit of pi to generat a markov Model (Fibonnacci dosen't work the propabilities are to near to be intressting)**"
   ]
  },
  {
   "cell_type": "code",
   "execution_count": 52,
   "id": "cordless-going",
   "metadata": {},
   "outputs": [],
   "source": [
    "import numpy as np\n",
    "import pandas as pd\n",
    "import math\n",
    "\n",
    "from fractions import Fraction\n",
    "from collections import defaultdict, Counter\n",
    "from iteration_utilities import deepflatten #flatten nested lists\n",
    "\n",
    "\n",
    "from music21 import midi, note, stream, instrument, meter, key\n",
    "import itertools\n",
    "import random\n",
    "\n",
    "\n",
    "import nltk #for NLP\n",
    "import string\n",
    "import mchmm #for Markov models\n",
    "\n",
    "#Just a helper function\n",
    "def flatten_list(hierarchical_list):\n",
    "    #Flatten a list of lists\n",
    "    return [x for sublist in hierarchical_list for x in sublist]"
   ]
  },
  {
   "cell_type": "code",
   "execution_count": 58,
   "id": "dietary-architect",
   "metadata": {},
   "outputs": [],
   "source": [
    "#mettre les decimeaux de pi dans une liste\n",
    "\n",
    "def dec_pi(nterms) : \n",
    "    pi = math.pi * pow(10, nterms-1)\n",
    "    \n",
    "    pilist = []\n",
    " \n",
    "    for i in range(nterms) :      \n",
    "        pilist.append(pi%10) \n",
    "        pi/=10\n",
    "    \n",
    "    return pilist\n",
    "     \n"
   ]
  },
  {
   "cell_type": "code",
   "execution_count": 78,
   "id": "european-marketplace",
   "metadata": {},
   "outputs": [],
   "source": [
    "pi_list = dec_pi(300)\n",
    "mylist = []\n",
    "\n",
    "for digit in pi_list :\n",
    "    if digit%5 == 0 :\n",
    "        mylist.append(0)\n",
    "    if digit%5==1 :\n",
    "        mylist.append(1)\n",
    "    if digit%5 == 2 :\n",
    "        mylist.append(2)\n",
    "    if digit%5 == 3 :\n",
    "        mylist.append(3)\n",
    "    if digit%5 == 4 : \n",
    "        mylist.append(4)"
   ]
  },
  {
   "cell_type": "code",
   "execution_count": 79,
   "id": "social-booth",
   "metadata": {},
   "outputs": [],
   "source": [
    "#built the bigram\n",
    "\n",
    "bigrams = list(zip(mylist[:-1], mylist[1:]))"
   ]
  },
  {
   "cell_type": "code",
   "execution_count": 81,
   "id": "adjustable-relations",
   "metadata": {},
   "outputs": [
    {
     "name": "stdout",
     "output_type": "stream",
     "text": [
      "defaultdict(<class 'collections.Counter'>, {2: Counter({3: 16, 2: 12, 0: 11, 1: 10, 4: 9}), 1: Counter({4: 12, 2: 11, 3: 10, 1: 9, 0: 9}), 0: Counter({0: 13, 3: 13, 2: 12, 4: 11, 1: 7}), 3: Counter({1: 16, 0: 13, 4: 13, 3: 11, 2: 10}), 4: Counter({3: 13, 2: 12, 4: 11, 1: 10, 0: 10})})\n"
     ]
    }
   ],
   "source": [
    "#comptage\n",
    "\n",
    "dd = defaultdict(Counter)\n",
    "for x, y in bigrams:\n",
    "    dd[x].update([y])\n",
    "print(dd)"
   ]
  },
  {
   "cell_type": "code",
   "execution_count": 87,
   "id": "egyptian-commons",
   "metadata": {},
   "outputs": [
    {
     "data": {
      "text/plain": [
       "[0, 1, 2, 3, 4]"
      ]
     },
     "execution_count": 87,
     "metadata": {},
     "output_type": "execute_result"
    }
   ],
   "source": [
    "#collumnes and lines\n",
    "\n",
    "max_mylist = max(dd.keys())\n",
    "all_mylist = list(range(0, max_mylist))\n",
    "all_mylist"
   ]
  },
  {
   "cell_type": "code",
   "execution_count": 88,
   "id": "hydraulic-nicholas",
   "metadata": {},
   "outputs": [
    {
     "data": {
      "text/html": [
       "<div>\n",
       "<style scoped>\n",
       "    .dataframe tbody tr th:only-of-type {\n",
       "        vertical-align: middle;\n",
       "    }\n",
       "\n",
       "    .dataframe tbody tr th {\n",
       "        vertical-align: top;\n",
       "    }\n",
       "\n",
       "    .dataframe thead th {\n",
       "        text-align: right;\n",
       "    }\n",
       "</style>\n",
       "<table border=\"1\" class=\"dataframe\">\n",
       "  <thead>\n",
       "    <tr style=\"text-align: right;\">\n",
       "      <th></th>\n",
       "      <th>0</th>\n",
       "      <th>1</th>\n",
       "      <th>2</th>\n",
       "      <th>3</th>\n",
       "      <th>4</th>\n",
       "    </tr>\n",
       "  </thead>\n",
       "  <tbody>\n",
       "    <tr>\n",
       "      <th>0</th>\n",
       "      <td>13</td>\n",
       "      <td>7</td>\n",
       "      <td>12</td>\n",
       "      <td>13</td>\n",
       "      <td>11</td>\n",
       "    </tr>\n",
       "    <tr>\n",
       "      <th>1</th>\n",
       "      <td>9</td>\n",
       "      <td>9</td>\n",
       "      <td>11</td>\n",
       "      <td>10</td>\n",
       "      <td>12</td>\n",
       "    </tr>\n",
       "    <tr>\n",
       "      <th>2</th>\n",
       "      <td>11</td>\n",
       "      <td>10</td>\n",
       "      <td>12</td>\n",
       "      <td>16</td>\n",
       "      <td>9</td>\n",
       "    </tr>\n",
       "    <tr>\n",
       "      <th>3</th>\n",
       "      <td>13</td>\n",
       "      <td>16</td>\n",
       "      <td>10</td>\n",
       "      <td>11</td>\n",
       "      <td>13</td>\n",
       "    </tr>\n",
       "    <tr>\n",
       "      <th>4</th>\n",
       "      <td>10</td>\n",
       "      <td>10</td>\n",
       "      <td>12</td>\n",
       "      <td>13</td>\n",
       "      <td>11</td>\n",
       "    </tr>\n",
       "  </tbody>\n",
       "</table>\n",
       "</div>"
      ],
      "text/plain": [
       "    0   1   2   3   4\n",
       "0  13   7  12  13  11\n",
       "1   9   9  11  10  12\n",
       "2  11  10  12  16   9\n",
       "3  13  16  10  11  13\n",
       "4  10  10  12  13  11"
      ]
     },
     "execution_count": 88,
     "metadata": {},
     "output_type": "execute_result"
    }
   ],
   "source": [
    "#transitions\n",
    "\n",
    "transitions = []\n",
    "for x in all_mylist:\n",
    "    row = [dd[x][y] for y in all_mylist]\n",
    "    transitions.append(row)\n",
    "transition_table = pd.DataFrame(transitions, index=all_mylist, columns=all_mylist)\n",
    "transition_table"
   ]
  },
  {
   "cell_type": "code",
   "execution_count": 89,
   "id": "aerial-evidence",
   "metadata": {},
   "outputs": [
    {
     "data": {
      "text/html": [
       "<div>\n",
       "<style scoped>\n",
       "    .dataframe tbody tr th:only-of-type {\n",
       "        vertical-align: middle;\n",
       "    }\n",
       "\n",
       "    .dataframe tbody tr th {\n",
       "        vertical-align: top;\n",
       "    }\n",
       "\n",
       "    .dataframe thead th {\n",
       "        text-align: right;\n",
       "    }\n",
       "</style>\n",
       "<table border=\"1\" class=\"dataframe\">\n",
       "  <thead>\n",
       "    <tr style=\"text-align: right;\">\n",
       "      <th></th>\n",
       "      <th>0</th>\n",
       "      <th>1</th>\n",
       "      <th>2</th>\n",
       "      <th>3</th>\n",
       "      <th>4</th>\n",
       "    </tr>\n",
       "  </thead>\n",
       "  <tbody>\n",
       "    <tr>\n",
       "      <th>0</th>\n",
       "      <td>0.232143</td>\n",
       "      <td>0.125000</td>\n",
       "      <td>0.214286</td>\n",
       "      <td>0.232143</td>\n",
       "      <td>0.196429</td>\n",
       "    </tr>\n",
       "    <tr>\n",
       "      <th>1</th>\n",
       "      <td>0.176471</td>\n",
       "      <td>0.176471</td>\n",
       "      <td>0.215686</td>\n",
       "      <td>0.196078</td>\n",
       "      <td>0.235294</td>\n",
       "    </tr>\n",
       "    <tr>\n",
       "      <th>2</th>\n",
       "      <td>0.189655</td>\n",
       "      <td>0.172414</td>\n",
       "      <td>0.206897</td>\n",
       "      <td>0.275862</td>\n",
       "      <td>0.155172</td>\n",
       "    </tr>\n",
       "    <tr>\n",
       "      <th>3</th>\n",
       "      <td>0.206349</td>\n",
       "      <td>0.253968</td>\n",
       "      <td>0.158730</td>\n",
       "      <td>0.174603</td>\n",
       "      <td>0.206349</td>\n",
       "    </tr>\n",
       "    <tr>\n",
       "      <th>4</th>\n",
       "      <td>0.178571</td>\n",
       "      <td>0.178571</td>\n",
       "      <td>0.214286</td>\n",
       "      <td>0.232143</td>\n",
       "      <td>0.196429</td>\n",
       "    </tr>\n",
       "  </tbody>\n",
       "</table>\n",
       "</div>"
      ],
      "text/plain": [
       "          0         1         2         3         4\n",
       "0  0.232143  0.125000  0.214286  0.232143  0.196429\n",
       "1  0.176471  0.176471  0.215686  0.196078  0.235294\n",
       "2  0.189655  0.172414  0.206897  0.275862  0.155172\n",
       "3  0.206349  0.253968  0.158730  0.174603  0.206349\n",
       "4  0.178571  0.178571  0.214286  0.232143  0.196429"
      ]
     },
     "execution_count": 89,
     "metadata": {},
     "output_type": "execute_result"
    }
   ],
   "source": [
    "#transforme to probability\n",
    "\n",
    "transition_table.div(transition_table.sum(axis=1), axis=0)"
   ]
  },
  {
   "cell_type": "code",
   "execution_count": 118,
   "id": "sorted-prince",
   "metadata": {},
   "outputs": [],
   "source": [
    "#association whit duration\n",
    "\n",
    "seq1 = [1/2,1/2,1/4,1/4,'1/8',1/8,1/4]\n",
    "seq2 = [1/4,'1/4',3/8,1/8,1/2,3/8,1/8]\n",
    "seq3 = [1/2,'1/4',1/4,1/4,'1/2',1/8,1/8]\n",
    "seq4 = [1/4,'1/4',1/4,1/2,'1/2',1/4]\n",
    "seq5 = [1,1/4,1/2,1/4]\n",
    "seq6 = [1/4,1/8,1/8,1/4,1/4,1/2,1/8,1/8,1/4]\n",
    "seq7 = [1/2,1/4,1/4,3/4,'1/8',1/8]\n",
    "seq8 = [1/4,'1/4',1/4,1/4,1/2,'1/4',1/4]\n",
    "seq9 = ['1/2',1/2,1/4,'1/2',1/4]\n",
    "\n",
    "#put in array\n",
    "\n",
    "duration_array =(seq1, seq2, seq3, seq4, seq5)"
   ]
  },
  {
   "cell_type": "code",
   "execution_count": 123,
   "id": "effective-sample",
   "metadata": {},
   "outputs": [
    {
     "name": "stdout",
     "output_type": "stream",
     "text": [
      "[[0.25, '1/4', 0.375, 0.125, 0.5, 0.375, 0.125], [1, 0.25, 0.5, 0.25], [0.25, '1/4', 0.25, 0.5, '1/2', 0.25], [0.25, '1/4', 0.375, 0.125, 0.5, 0.375, 0.125]]\n"
     ]
    }
   ],
   "source": [
    "#lenght and start\n",
    "\n",
    "chain_length = 4 #nombre de sequence de markov dans la final duration (we can change it)\n",
    "\n",
    "#don't start with seq1 -> dosn't work \n",
    "current_state = seq2\n",
    "current_indice = 1\n",
    "\n",
    "final_duration = []\n",
    "\n",
    "for m in range(chain_length):\n",
    "    final_duration.append(current_state)\n",
    "    best_indice = 0\n",
    "    \n",
    "    for i in range(0,5) :\n",
    "        \n",
    "        #find the best probability\n",
    "        if transition_table[i][current_indice] > transition_table[best_indice][current_indice] :\n",
    "            best_indice= i\n",
    "        \n",
    "    next_state = duration_array[best_indice]\n",
    "    current_indice = best_indice\n",
    "    current_state = next_state\n",
    "    \n",
    "print(final_duration)"
   ]
  },
  {
   "cell_type": "markdown",
   "id": "other-sally",
   "metadata": {},
   "source": [
    "- **final duration is a list with the fours sequences chose by the markov model**"
   ]
  },
  {
   "cell_type": "code",
   "execution_count": null,
   "id": "committed-exhaust",
   "metadata": {},
   "outputs": [],
   "source": []
  }
 ],
 "metadata": {
  "kernelspec": {
   "display_name": "Python [conda env:algo] *",
   "language": "python",
   "name": "conda-env-algo-py"
  },
  "language_info": {
   "codemirror_mode": {
    "name": "ipython",
    "version": 3
   },
   "file_extension": ".py",
   "mimetype": "text/x-python",
   "name": "python",
   "nbconvert_exporter": "python",
   "pygments_lexer": "ipython3",
   "version": "3.8.5"
  }
 },
 "nbformat": 4,
 "nbformat_minor": 5
}
