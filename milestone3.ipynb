{
 "cells": [
  {
   "cell_type": "markdown",
   "metadata": {},
   "source": [
    "# Milestone 3"
   ]
  },
  {
   "cell_type": "code",
   "execution_count": 69,
   "metadata": {},
   "outputs": [],
   "source": [
    "from music21 import pitch, note, stream, duration, corpus, dynamics, instrument, converter, chord\n",
    "import numpy as np\n",
    "import random\n",
    "import copy\n",
    "# %matplotlib inline\n",
    "import matplotlib.pyplot as plt\n",
    "plt.style.use('seaborn-whitegrid')\n",
    "import scipy.io.wavfile as wave\n",
    "from IPython.display import Audio"
   ]
  },
  {
   "cell_type": "markdown",
   "metadata": {},
   "source": [
    "## Algorithms"
   ]
  },
  {
   "cell_type": "code",
   "execution_count": 70,
   "metadata": {},
   "outputs": [],
   "source": [
    "def change_speed(src: stream.Stream, ratio: float,\n",
    "                 begin: int = 0, end: int = -1) -> None:\n",
    "    \"\"\"Changes the speed (duration) of the notes in a given stream.\n",
    "    (in place)\n",
    "\n",
    "    Args:\n",
    "        src (stream.Stream):   The stream on which we want to change the speed\n",
    "        ratio (float):         The ratio of the change of speed\n",
    "        begin (int, optional): The beginning measure.\n",
    "                               Defaults to 0.\n",
    "        end (int, optional):   The end measure\n",
    "                               (negative if it's the last measure).\n",
    "                               Defaults to -1.\n",
    "    \"\"\"\n",
    "\n",
    "    mes = src.getElementsByClass('Measure')\n",
    "\n",
    "    if end < 0:\n",
    "        end = len(mes)\n",
    "\n",
    "    for i in range(begin, end):\n",
    "        mes[i].augmentOrDiminish(ratio, inPlace=True)"
   ]
  },
  {
   "cell_type": "code",
   "execution_count": 71,
   "metadata": {},
   "outputs": [],
   "source": [
    "def copy_stream(to_copy: stream.Stream) -> stream.Stream:\n",
    "    \"\"\"Copies a stream.\n",
    "\n",
    "    Args:\n",
    "      to_copy (stream.Stream): The stream to copy\n",
    "\n",
    "    Returns:\n",
    "      stream.Stream: The copy\n",
    "    \"\"\"\n",
    "    new_part = stream.Score()\n",
    "\n",
    "    for elem in to_copy.elements:\n",
    "        new_part.insert(elem.offset, copy.deepcopy(elem))\n",
    "\n",
    "    return new_part"
   ]
  },
  {
   "cell_type": "code",
   "execution_count": 72,
   "metadata": {},
   "outputs": [],
   "source": [
    "def add_stream(src: stream.Stream, to_add: stream.Stream,\n",
    "               offset: int = 0) -> None:\n",
    "    \"\"\"Adds to a stream another stream (inserts at the beginning).\n",
    "  \n",
    "    Args:\n",
    "      src (stream.Stream):     The stream to which we want to add\n",
    "      to_add (stream.Stream):  The stream to add\n",
    "      offset  (optional, int): Where to insert the stream\n",
    "    \"\"\"\n",
    "    if to_add in src.elements:\n",
    "        to_add = copy_stream(to_add)\n",
    "\n",
    "    src.insert(offset, to_add)"
   ]
  },
  {
   "cell_type": "code",
   "execution_count": 73,
   "metadata": {},
   "outputs": [],
   "source": [
    "def remove_stream(src: stream.Stream, to_remove: stream.Stream) -> None:\n",
    "    \"\"\"Removes a stream from another stream.\n",
    "    The stream to remove needs to be an exact reference and not a copy.\n",
    "\n",
    "    Args:\n",
    "      src (stream.Stream):       The stream on which we want to remove a stream\n",
    "      to_remove (stream.Stream): The stream to remove\n",
    "    \"\"\"\n",
    "    src.remove(to_remove, recurse=True)"
   ]
  },
  {
   "cell_type": "code",
   "execution_count": 74,
   "metadata": {},
   "outputs": [],
   "source": [
    "def add_drone(strm: stream.Score, ptc: pitch.Pitch) -> None:\n",
    "    \"\"\"Adds a drone note to a stream (and adds a part for this drone).\n",
    "\n",
    "    Args:\n",
    "        strm (stream.Score): The score on which we want to add a drone part\n",
    "        ptc (pitch.Pitch):   The pitch of the drone\n",
    "    \"\"\"\n",
    "    dur = strm.duration\n",
    "    n = note.Note()\n",
    "    n.pitch = ptc\n",
    "    n.duration = dur\n",
    "\n",
    "    new_strm = stream.Part()\n",
    "    new_strm.insert(0, n)\n",
    "    strm.insert(0, new_strm)"
   ]
  },
  {
   "cell_type": "code",
   "execution_count": 75,
   "metadata": {},
   "outputs": [],
   "source": [
    "def keep_measures(strm: stream.Part, begin: int, end: int) -> None:\n",
    "    \"\"\"Keeps only the indicated measures inside a stream.\n",
    "\n",
    "    Args:\n",
    "        strm (stream.Part): The stream\n",
    "        begin (int):        The index of the first measure to keep\n",
    "        end (int):          The index of the measure after the last to keep\n",
    "    \"\"\"\n",
    "    mes = strm.getElementsByClass('Measure')\n",
    "\n",
    "    if end < 0:\n",
    "        end = len(mes)\n",
    " \n",
    "    for i in range(0, begin):\n",
    "        for n in mes[i].notes:\n",
    "            mes[i].remove(n)\n",
    "\n",
    "    for i in range(end, len(mes)):\n",
    "        for n in mes[i].notes:\n",
    "            mes[i].remove(n)"
   ]
  },
  {
   "cell_type": "code",
   "execution_count": 76,
   "metadata": {},
   "outputs": [],
   "source": [
    "def add_dynamic(strm: stream.Part, dyn: dynamics.Dynamic,\n",
    "                measure: int = 0, offset: int = 0) -> None:\n",
    "    \"\"\"Adds a dynamic in a part.\n",
    "\n",
    "    Args:\n",
    "        strm (stream.Part):      The part on which we want to add the dynamic\n",
    "        dyn (dynamics.Dynamic):  The dynamic to add\n",
    "        measure (int, optional): The index of the measure.\n",
    "                                 Defaults to 0.\n",
    "        offset (int, optional):  The index of the offset inside the measure.\n",
    "                                 Defaults to 0.\n",
    "    \"\"\"\n",
    "    mes = strm.getElementsByClass('Measure')[measure]\n",
    "    mes.insert(offset, copy.deepcopy(dyn))"
   ]
  },
  {
   "cell_type": "code",
   "execution_count": 77,
   "metadata": {},
   "outputs": [],
   "source": [
    "def change_instrument(strm: stream.Part, instr: instrument.Instrument,\n",
    "                      measure: int = 0, offset: int = 0) -> None:\n",
    "    \"\"\"Changes the instrument at a specified location in a part.\n",
    "\n",
    "    Args:\n",
    "        strm (stream.Part):            The part on which we want to change the\n",
    "                                       instrument\n",
    "        instr (instrument.Instrument): The instrument to add\n",
    "        measure (int, optional):       The index of the measure where we want to\n",
    "                                       add the instrument.\n",
    "                                       Defaults to 0.\n",
    "        offset (int, optional):        The offset inside of the measure.\n",
    "                                       Defaults to 0.\n",
    "    \"\"\"\n",
    "    true_offset = strm.getElementsByClass('Measure')[measure].offset + offset\n",
    "\n",
    "    for instr_in_strm in strm.getElementsByClass('Instrument'):\n",
    "        if instr_in_strm.offset == true_offset:\n",
    "            strm.remove(instr_in_strm)\n",
    "            break\n",
    "\n",
    "    strm.insert(true_offset, instr)"
   ]
  },
  {
   "cell_type": "code",
   "execution_count": 78,
   "metadata": {},
   "outputs": [],
   "source": [
    "def move_pitch(note: note.Note, offset: float) -> None:\n",
    "    \"\"\"Shifts the pitch by a give-> Nonet\n",
    "    Pitch goes down if offset < 0 and up if offset > 0\n",
    "\n",
    "    Args:\n",
    "        note (note.Note): The note\n",
    "        offset (float): The offset\n",
    "    \"\"\"\n",
    "    note.pitch.ps += offset\n",
    "\n",
    "\n",
    "def move_pitches(strm: stream.Part, offset: float,\n",
    "                 begin: int = 0, end: int = -1) -> None:\n",
    "    \"\"\"Moves the pitches of the notes in a stream\n",
    "\n",
    "    Args:\n",
    "        strm (stream.Part):    The stream\n",
    "        offset (float):        The offset\n",
    "        begin (int, optional): The index of the first measure.\n",
    "                                   Defaults to 0.\n",
    "        end (int, optional):   The index of the measure after the last one.\n",
    "                                   Defaults to -1.\n",
    "    \"\"\"\n",
    "    if end < 0:\n",
    "        end = len(strm.getElementsByClass('Measure'))\n",
    "\n",
    "    for mes in strm.getElementsByClass('Measure')[begin:end]:\n",
    "        for n in mes.notes:\n",
    "            if isinstance(n, chord.Chord):\n",
    "                for chord_n in n.notes:\n",
    "                    move_pitch(chord_n, offset)\n",
    "            else:\n",
    "                move_pitch(n, offset)\n",
    "\n",
    "\n",
    "def random_move_pitches(strm: stream.Part, delta: float,\n",
    "                        begin: int = 0, end: int = -1) -> None:\n",
    "    \"\"\"Randomly move the pitches of the notes in a stream.\n",
    "\n",
    "    Args:\n",
    "        strm (stream.Part):    The stream to modify\n",
    "        delta (float):         By how much we can change the pitches\n",
    "        begin (int, optional): The starting measure index.\n",
    "                                   Defaults to 0.\n",
    "        end (int, optional):   The index of the measure after the last measure.\n",
    "                                   Defaults to -1.\n",
    "    \"\"\"\n",
    "    if end < 0:\n",
    "        end = len(strm.getElementsByClass('Measure'))\n",
    "\n",
    "    for mes in strm.getElementsByClass('Measure')[begin:end]:\n",
    "        for n in mes.notes:\n",
    "            if isinstance(n, chord.Chord):\n",
    "                for chord_n in n.notes:\n",
    "                    rnd_var = random.uniform(-delta, delta)\n",
    "                    move_pitch(chord_n, rnd_var)\n",
    "            else:\n",
    "                rnd_var = random.uniform(-delta, delta)\n",
    "                move_pitch(n, rnd_var)\n"
   ]
  },
  {
   "cell_type": "markdown",
   "metadata": {},
   "source": [
    "## Structure"
   ]
  },
  {
   "cell_type": "markdown",
   "metadata": {},
   "source": [
    "### Generation of the structure"
   ]
  },
  {
   "cell_type": "code",
   "execution_count": 79,
   "metadata": {},
   "outputs": [],
   "source": [
    "# CONSTANTS\n",
    "AWAKE_PATH = 'Awake.txt'\n",
    "LIGHT_PATH = 'Light.txt'\n",
    "DEEP_PATH = 'Deep.txt'\n",
    "REM_PATH = 'REM.txt'"
   ]
  },
  {
   "cell_type": "code",
   "execution_count": 80,
   "metadata": {},
   "outputs": [],
   "source": [
    "def read_file_to_list(filename):\n",
    "    \"\"\"Reads the file and returns usable data\n",
    "       only used for (Awake.txt, Light.txt, Deep.txt, REM.txt).\n",
    "       \n",
    "       Args:\n",
    "           file: One of the four mentioned .txt files\n",
    "        \n",
    "       Return:\n",
    "           time_line: List with the timestamps\n",
    "           probs:     List with the corresponding probabilities\n",
    "    \"\"\"\n",
    "    counter = 0\n",
    "\n",
    "    with open(filename, 'r') as f:\n",
    "        data = f.readline()\n",
    "        time_line = [float(data.split()[0])]\n",
    "        probs = [float(data.split()[1])]\n",
    "\n",
    "        line = f.readline()\n",
    "\n",
    "        while line:\n",
    "            new_time = float(line.split()[0])\n",
    "            new_prob = float(line.split()[1])\n",
    "\n",
    "            if new_time != time_line[counter]:\n",
    "                # avoid duplicates\n",
    "                time_line.append(new_time)\n",
    "                probs.append(new_prob)\n",
    "                counter += 1\n",
    "\n",
    "            line = f.readline()\n",
    "\n",
    "    return time_line, probs\n",
    "\n",
    "\n",
    "def probability(file, step_prob, size = 25):\n",
    "    \"\"\"Changes the data to better match it's uses. Ie regular time interval with\n",
    "    means.\n",
    "        \n",
    "        Args:\n",
    "            file:            .txt file of which the data should be treated\n",
    "            step_prob:       an array with the probabilities at time = 0\n",
    "                             ([[1],[0],[0],[0]])\n",
    "            size (optional): length of each phase\n",
    "            \n",
    "        Return:\n",
    "            step_prob: probability of the phase after each time interval\n",
    "    \"\"\"\n",
    "    step = size\n",
    "    start = 0\n",
    "    time , prob = read_file_to_list(file)\n",
    "    for x in range(len(time)):\n",
    "        if time[x] > step:\n",
    "            step_prob.append(np.mean(prob[start:x]))\n",
    "            start = x\n",
    "            step += size\n",
    "    step_prob.append(np.mean(prob[start:x]))\n",
    "    return step_prob\n",
    "\n",
    "\n",
    "def create_probability_seq(step_size = 25):\n",
    "    \"\"\" Creating a sequence of time interval with length step_size and the\n",
    "    corresponding probabilities of the phases\n",
    "    \n",
    "        Args:\n",
    "            step_size (optional): length of the time interval and with that\n",
    "                                  length of each phase\n",
    "        \n",
    "        Return:\n",
    "            step_time: sequence of time intervals\n",
    "            step_prob: the corresponding probabilites of each phase\n",
    "    \"\"\"\n",
    "    step_prob = [[1],[0],[0],[0]]\n",
    "    step_time = [int(x * step_size) for x in range(int(500/step_size) + 1)]\n",
    "    step_prob[0] = probability(AWAKE_PATH, step_prob[0], step_size)\n",
    "    step_prob[1] = probability(REM_PATH, step_prob[1], step_size)    \n",
    "    step_prob[2] = probability(LIGHT_PATH, step_prob[2], step_size)\n",
    "    step_prob[3] = probability(DEEP_PATH, step_prob[3], step_size)\n",
    "    return step_time, step_prob\n",
    "\n",
    "\n",
    "def create_phase_seq(phase_length = 25):\n",
    "    \"\"\" Creates the sequence of phases during the sleep\n",
    "        \n",
    "        Args:\n",
    "            phase_length (optional): Length of each phase in time-units\n",
    "        \n",
    "        Return:\n",
    "            time_axis: x-axis of the plot in time-units\n",
    "            y_axsis:   y-axsis of the plot i.e. the phases\n",
    "                      (3=awake, 2=rem, 1=light, 0=deep)\n",
    "    \"\"\"\n",
    "    time_axis , step_prob = create_probability_seq(phase_length)\n",
    "    \n",
    "    probs = []\n",
    "    \n",
    "    for i in range(len(step_prob[0])):\n",
    "        probs.append([step_prob[0][i],step_prob[1][i],step_prob[2][i],step_prob[3][i]])\n",
    "\n",
    "    y_axis = [random.choices([3,2,1,0],probs[i]) for i in range(len(probs))]\n",
    "    return time_axis, y_axis"
   ]
  },
  {
   "cell_type": "markdown",
   "metadata": {},
   "source": [
    "## Sleep phases"
   ]
  },
  {
   "cell_type": "markdown",
   "metadata": {},
   "source": [
    "### Awake"
   ]
  },
  {
   "cell_type": "code",
   "execution_count": 81,
   "metadata": {},
   "outputs": [],
   "source": [
    "def algo_awake(ogstrm: stream.Score, begin: int = 0, end: int = -1) -> stream.Score:\n",
    "    if end is None or end < 0:\n",
    "        end = len(ogstrm.parts[0].getElementsByClass('Measure'))\n",
    "\n",
    "    ogstrm = copy_stream(ogstrm)\n",
    "\n",
    "    for i in range(len(ogstrm.parts)):\n",
    "        new_part = ogstrm.parts[i]\n",
    "        keep_measures(new_part, begin + i, end)\n",
    "\n",
    "    return ogstrm"
   ]
  },
  {
   "cell_type": "markdown",
   "metadata": {},
   "source": [
    "### Light sleep"
   ]
  },
  {
   "cell_type": "code",
   "execution_count": 82,
   "metadata": {},
   "outputs": [],
   "source": [
    "def algo_light(strm: stream.Score, begin: int = 0, end: int = -1) -> stream.Score:\n",
    "    cpy = copy_stream(strm)\n",
    "\n",
    "    for p in cpy.parts:\n",
    "        add_dynamic(p, dynamics.Dynamic('p'), measure=begin)\n",
    "        move_pitches(p, -5, begin, end)\n",
    "        keep_measures(p, begin, end)\n",
    "\n",
    "    return cpy"
   ]
  },
  {
   "cell_type": "markdown",
   "metadata": {},
   "source": [
    "### REM"
   ]
  },
  {
   "cell_type": "code",
   "execution_count": 83,
   "metadata": {},
   "outputs": [],
   "source": [
    "def algo_rem(strm: stream.Score, begin: int = 0, end: int = -1) -> stream.Score:\n",
    "    cpy = copy_stream(strm)\n",
    "\n",
    "    for p in cpy.parts:\n",
    "        keep_measures(p, begin, end)\n",
    "        change_speed(p, 0.5, begin, end)\n",
    "        add_dynamic(p, dynamics.Dynamic('ff'), begin)\n",
    "\n",
    "    return cpy"
   ]
  },
  {
   "cell_type": "markdown",
   "metadata": {},
   "source": [
    "### Deep sleep"
   ]
  },
  {
   "cell_type": "code",
   "execution_count": 84,
   "metadata": {},
   "outputs": [],
   "source": [
    "def algo_deep(strm: stream.Score, begin: int = 0, end: int = -1) -> stream.Score:\n",
    "    cpy = copy_stream(strm)\n",
    "\n",
    "    for p in cpy.parts[1:]:\n",
    "        # remove all but the melody\n",
    "        for mes in p.getElementsByClass('Measure'):\n",
    "            for n in mes.notes:\n",
    "                mes.remove(n)\n",
    "\n",
    "    p = cpy.parts[0]    \n",
    "    change_speed(p, 2, begin, end)\n",
    "    move_pitches(p, -10, begin, end)\n",
    "    random_move_pitches(p, 0.5, begin, end)\n",
    "\n",
    "    keep_measures(p, begin, end)\n",
    "\n",
    "    return cpy"
   ]
  },
  {
   "cell_type": "markdown",
   "metadata": {},
   "source": [
    "## Putting the piece together"
   ]
  },
  {
   "cell_type": "markdown",
   "metadata": {},
   "source": [
    "### Algorithms"
   ]
  },
  {
   "cell_type": "code",
   "execution_count": 85,
   "metadata": {},
   "outputs": [],
   "source": [
    "AWAKE = 'Awake'\n",
    "REM = 'REM'\n",
    "LIGHT = 'Light'\n",
    "DEEP = 'Deep'\n",
    "\n",
    "phases = [AWAKE, REM, LIGHT, DEEP]\n",
    "\n",
    "\n",
    "def show_plot(step_time, endit, save=False) -> None:\n",
    "    phases = ['Awake','REM','Light','Deep']\n",
    "    plt.plot(step_time,endit)\n",
    "    plt.yticks([3,2,1,0], phases)\n",
    "\n",
    "    if save:\n",
    "        plt.savefig('plot/plot', format='pdf')\n",
    "\n",
    "    plt.show()\n",
    "\n",
    "\n",
    "def generate_phases(score: stream.Score, save_plot=False) -> dict:\n",
    "    # create phases list\n",
    "    step_time, endit = create_phase_seq(50)\n",
    "\n",
    "    phases_list = list(map(lambda i: phases[len(phases) - i[0] - 1], endit))\n",
    "    phases_list.append(AWAKE)\n",
    "\n",
    "\n",
    "    # create dictionary of measure indices to sleep phases\n",
    "    total_measures = len(score.parts[0].getElementsByClass('Measure'))\n",
    "\n",
    "    phases_mes = {}\n",
    "\n",
    "    for i in range(len(phases_list)):\n",
    "        mes_nbr = int(i * (total_measures / len(phases_list)))\n",
    "        phases_mes[mes_nbr] = phases_list[i]\n",
    "\n",
    "    print(\"Phases : \", phases_mes)\n",
    "\n",
    "    show_plot(step_time, endit, save=save_plot)\n",
    "\n",
    "    return phases_mes\n",
    "\n",
    "\n",
    "def merge_parts(strm1, strm2):\n",
    "    meslist1 = strm1.getElementsByClass('Measure')\n",
    "    meslist2 = strm2.getElementsByClass('Measure')\n",
    "\n",
    "    for i in range(len(meslist1)):\n",
    "        mes1 = meslist1[i]\n",
    "        mes2 = meslist2[i]\n",
    "        \n",
    "        for n in mes2.notes:\n",
    "            mes1.insert(n)\n",
    "\n",
    "\n",
    "def apply_sleep_phase(base_piece, begin, end, phase):\n",
    "    func = None\n",
    "\n",
    "    if phase == AWAKE:\n",
    "        func = algo_awake\n",
    "    elif phase == REM:\n",
    "        func = algo_rem\n",
    "    elif phase == LIGHT:\n",
    "        func = algo_light\n",
    "    elif phase == DEEP:\n",
    "        func = algo_deep\n",
    "        \n",
    "    return func(base_piece, begin, end)\n",
    "\n",
    "\n",
    "def create_base_score():\n",
    "    score = stream.Score()\n",
    "    lh = stream.Score()\n",
    "    rh = stream.Score()\n",
    "    score.insert(0, lh)\n",
    "    score.insert(0, rh)\n",
    "    return score, lh, rh"
   ]
  },
  {
   "cell_type": "code",
   "execution_count": 86,
   "metadata": {},
   "outputs": [
    {
     "name": "stdout",
     "output_type": "stream",
     "text": [
      "Begin computing score\n",
      "Phases :  {0: 'Awake', 8: 'Awake', 17: 'Light', 26: 'Light', 34: 'Awake', 43: 'Deep', 52: 'Deep', 60: 'Light', 69: 'REM', 78: 'Awake', 86: 'Awake', 95: 'Awake'}\n"
     ]
    },
    {
     "name": "stderr",
     "output_type": "stream",
     "text": [
      "/Users/loicbacci/opt/anaconda3/envs/algo/lib/python3.8/site-packages/numpy/core/fromnumeric.py:3419: RuntimeWarning: Mean of empty slice.\n",
      "  return _methods._mean(a, axis=axis, dtype=dtype,\n",
      "/Users/loicbacci/opt/anaconda3/envs/algo/lib/python3.8/site-packages/numpy/core/_methods.py:188: RuntimeWarning: invalid value encountered in double_scalars\n",
      "  ret = ret.dtype.type(ret / rcount)\n"
     ]
    },
    {
     "data": {
      "image/png": "[encoded data removed]",
      "text/plain": [
       "<Figure size 432x288 with 1 Axes>"
      ]
     },
     "metadata": {
      "image/png": {
       "height": 244,
       "width": 382
      }
     },
     "output_type": "display_data"
    },
    {
     "name": "stdout",
     "output_type": "stream",
     "text": [
      "Finished generating parts\n",
      "Finished generating final score\n"
     ]
    }
   ],
   "source": [
    "print(\"Begin computing score\")\n",
    "\n",
    "base = converter.parse('fur_elise.mxl')\n",
    "\n",
    "phases_mes = generate_phases(base, save_plot=True)\n",
    "mes_list = list(phases_mes.keys())\n",
    "total_measures = len(score.parts[0].getElementsByClass('Measure'))\n",
    "\n",
    "# Generate the separate parts (material used to create the final audio)\n",
    "a_score = algo_awake(base)\n",
    "l_score = algo_light(base)\n",
    "r_score = algo_rem(base)\n",
    "d_score = algo_deep(base)\n",
    "\n",
    "a_score.write('midi', fp='midi/awake.mid')\n",
    "l_score.write('midi', fp='midi/light.mid')\n",
    "r_score.write('midi', fp='midi/rem.mid')\n",
    "d_score.write('midi', fp='midi/deep.mid')\n",
    "\n",
    "print(\"Finished generating parts\")\n",
    "\n",
    "# Create a score with separate left and right hands\n",
    "final_score = stream.Score()\n",
    "lh = stream.Score()\n",
    "rh = stream.Score()\n",
    "final_score.insert(0, lh)\n",
    "final_score.insert(0, rh)\n",
    "\n",
    "for i in range(len(mes_list)):\n",
    "    mes_begin = mes_list[i]\n",
    "    mes_end = 0\n",
    "    \n",
    "    if i == len(mes_list) - 1:\n",
    "        mes_end = total_measures\n",
    "    else:\n",
    "        mes_end = mes_list[i+1]\n",
    "    \n",
    "    new_piece = apply_sleep_phase(base, mes_begin, mes_end, phases_mes[mes_begin])\n",
    "    lh.insert(0, new_piece.parts[0])\n",
    "    rh.insert(0, new_piece.parts[1])\n",
    "\n",
    "# Flatten the parts so the final score only contains the left and right hand parts\n",
    "final_score.replace(lh, lh.flattenParts())\n",
    "final_score.replace(rh, rh.flattenParts())\n",
    "\n",
    "final_score.write('midi', fp='midi/piece.mid')\n",
    "print(\"Finished generating final score\")"
   ]
  },
  {
   "cell_type": "markdown",
   "metadata": {},
   "source": [
    "## Final piece visualization\n",
    "\n",
    "Hardcoded the sleep phases used in the final piece"
   ]
  },
  {
   "cell_type": "code",
   "execution_count": 87,
   "metadata": {},
   "outputs": [
    {
     "name": "stdout",
     "output_type": "stream",
     "text": [
      "[0, 50, 100, 150, 200, 250, 300, 350, 400, 450, 500] [[3], [1], [1], [0], [0], [1], [2], [1], [2], [1], [3]]\n"
     ]
    },
    {
     "name": "stderr",
     "output_type": "stream",
     "text": [
      "/Users/loicbacci/opt/anaconda3/envs/algo/lib/python3.8/site-packages/numpy/core/fromnumeric.py:3419: RuntimeWarning: Mean of empty slice.\n",
      "  return _methods._mean(a, axis=axis, dtype=dtype,\n",
      "/Users/loicbacci/opt/anaconda3/envs/algo/lib/python3.8/site-packages/numpy/core/_methods.py:188: RuntimeWarning: invalid value encountered in double_scalars\n",
      "  ret = ret.dtype.type(ret / rcount)\n"
     ]
    },
    {
     "data": {
      "image/png": "[encoded data removed]",
      "text/plain": [
       "<Figure size 432x288 with 1 Axes>"
      ]
     },
     "metadata": {
      "image/png": {
       "height": 244,
       "width": 382
      }
     },
     "output_type": "display_data"
    }
   ],
   "source": [
    "phases = ['Awake','REM','Light','Deep']\n",
    "step_time, endit = create_phase_seq(50) #The integer can be set as 10,20,25,50,100,250\n",
    "endit = [[3], [1], [1], [0], [0], [1], [2], [1], [2], [1], [3]]\n",
    "print(step_time, endit)\n",
    "plt.plot(step_time,endit)\n",
    "plt.yticks([3,2,1,0], phases)\n",
    "plt.savefig('plot/plot', format='pdf')\n",
    "plt.show()"
   ]
  }
 ],
 "metadata": {
  "interpreter": {
   "hash": "905c60f8c9a4410bd618fd74162fd6717021febd45cddae1997d312c11f4b783"
  },
  "kernelspec": {
   "display_name": "Python 3.8.5 64-bit ('algo': conda)",
   "name": "python3"
  },
  "language_info": {
   "codemirror_mode": {
    "name": "ipython",
    "version": 3
   },
   "file_extension": ".py",
   "mimetype": "text/x-python",
   "name": "python",
   "nbconvert_exporter": "python",
   "pygments_lexer": "ipython3",
   "version": "3.8.5"
  },
  "orig_nbformat": 3
 },
 "nbformat": 4,
 "nbformat_minor": 4
}